{
 "cells": [
  {
   "cell_type": "code",
   "execution_count": 1,
   "metadata": {},
   "outputs": [
    {
     "name": "stdout",
     "output_type": "stream",
     "text": [
      "                 ID   Name          Age\n",
      "count   1000.000000   1000  1000.000000\n",
      "unique          NaN      4          NaN\n",
      "top             NaN  Alice          NaN\n",
      "freq            NaN    250          NaN\n",
      "mean     500.500000    NaN    31.000000\n",
      "std      288.819436    NaN     6.598753\n",
      "min        1.000000    NaN    23.000000\n",
      "25%      250.750000    NaN    26.750000\n",
      "50%      500.500000    NaN    30.000000\n",
      "75%      750.250000    NaN    34.250000\n",
      "max     1000.000000    NaN    41.000000\n"
     ]
    }
   ],
   "source": [
    "import pandas as pd\n",
    "\n",
    "# Create a sample dataframe (replace this with your actual dataframe)\n",
    "data = {\n",
    "    'ID': list(range(1, 1001)),\n",
    "    'Name': ['Alice', 'Bob', 'Charlie', 'David'] * 250,\n",
    "    'Age': [23, 32, 28, 41] * 250\n",
    "}\n",
    "sample_df = pd.DataFrame(data)\n",
    "\n",
    "# Use describe() to get summary statistics\n",
    "summary = sample_df.describe(include='all')\n",
    "\n",
    "# Print the summary\n",
    "print(summary)"
   ]
  }
 ],
 "metadata": {
  "kernelspec": {
   "display_name": "base",
   "language": "python",
   "name": "python3"
  },
  "language_info": {
   "codemirror_mode": {
    "name": "ipython",
    "version": 3
   },
   "file_extension": ".py",
   "mimetype": "text/x-python",
   "name": "python",
   "nbconvert_exporter": "python",
   "pygments_lexer": "ipython3",
   "version": "3.9.12"
  },
  "orig_nbformat": 4
 },
 "nbformat": 4,
 "nbformat_minor": 2
}
